{
 "cells": [
  {
   "cell_type": "code",
   "execution_count": 6,
   "metadata": {},
   "outputs": [],
   "source": [
    "import numpy as np\n",
    "import seaborn as sns"
   ]
  },
  {
   "cell_type": "code",
   "execution_count": 5,
   "metadata": {},
   "outputs": [
    {
     "name": "stdout",
     "output_type": "stream",
     "text": [
      "Collecting seaborn\n",
      "\u001b[?25l  Downloading https://files.pythonhosted.org/packages/bc/45/5118a05b0d61173e6eb12bc5804f0fbb6f196adb0a20e0b16efc2b8e98be/seaborn-0.11.0-py3-none-any.whl (283kB)\n",
      "\u001b[K     |████████████████████████████████| 286kB 1.2MB/s eta 0:00:01\n",
      "\u001b[?25hRequirement already satisfied: numpy>=1.15 in /home/marvin/virtualenv/scs/lib/python3.7/site-packages (from seaborn) (1.17.4)\n",
      "Requirement already satisfied: matplotlib>=2.2 in /home/marvin/virtualenv/scs/lib/python3.7/site-packages (from seaborn) (3.1.2)\n",
      "Requirement already satisfied: pandas>=0.23 in /home/marvin/virtualenv/scs/lib/python3.7/site-packages (from seaborn) (1.0.1)\n",
      "Requirement already satisfied: scipy>=1.0 in /home/marvin/virtualenv/scs/lib/python3.7/site-packages (from seaborn) (1.3.3)\n",
      "Requirement already satisfied: kiwisolver>=1.0.1 in /home/marvin/virtualenv/scs/lib/python3.7/site-packages (from matplotlib>=2.2->seaborn) (1.1.0)\n",
      "Requirement already satisfied: python-dateutil>=2.1 in /home/marvin/virtualenv/scs/lib/python3.7/site-packages (from matplotlib>=2.2->seaborn) (2.8.1)\n",
      "Requirement already satisfied: pyparsing!=2.0.4,!=2.1.2,!=2.1.6,>=2.0.1 in /home/marvin/virtualenv/scs/lib/python3.7/site-packages (from matplotlib>=2.2->seaborn) (2.4.5)\n",
      "Requirement already satisfied: cycler>=0.10 in /home/marvin/virtualenv/scs/lib/python3.7/site-packages (from matplotlib>=2.2->seaborn) (0.10.0)\n",
      "Requirement already satisfied: pytz>=2017.2 in /home/marvin/virtualenv/scs/lib/python3.7/site-packages (from pandas>=0.23->seaborn) (2019.3)\n",
      "Requirement already satisfied: setuptools in /home/marvin/virtualenv/scs/lib/python3.7/site-packages (from kiwisolver>=1.0.1->matplotlib>=2.2->seaborn) (42.0.0)\n",
      "Requirement already satisfied: six>=1.5 in /home/marvin/virtualenv/scs/lib/python3.7/site-packages (from python-dateutil>=2.1->matplotlib>=2.2->seaborn) (1.13.0)\n",
      "Installing collected packages: seaborn\n",
      "Successfully installed seaborn-0.11.0\n",
      "\u001b[33mWARNING: You are using pip version 19.3.1; however, version 20.2.3 is available.\n",
      "You should consider upgrading via the 'pip install --upgrade pip' command.\u001b[0m\n"
     ]
    }
   ],
   "source": [
    "!pip install seaborn"
   ]
  },
  {
   "cell_type": "code",
   "execution_count": 2,
   "metadata": {},
   "outputs": [],
   "source": [
    "source_link = 'https://www.kmk.org/fileadmin/Dateien/pdf/Statistik/Aus_Abiturnoten_2015.pdf'"
   ]
  },
  {
   "cell_type": "code",
   "execution_count": 3,
   "metadata": {},
   "outputs": [],
   "source": [
    "abi_grades_2015 = {\n",
    "    '1.0': 70,\n",
    "    '1.1': 42,\n",
    "    '1.2': 56,\n",
    "    '1.3': 62,\n",
    "    '1.4': 63,\n",
    "    '1.5': 100,\n",
    "    '1.6': 115,\n",
    "    '1.7': 149,\n",
    "    '1.8': 170,\n",
    "    '1.9': 167,\n",
    "    '2.0': 155,\n",
    "    '2.1': 199,\n",
    "    '2.2': 203,\n",
    "    '2.3': 211,\n",
    "    '2.4': 208,\n",
    "    '2.5': 238,\n",
    "    '2.6': 228,\n",
    "    '2.7': 222,\n",
    "    '2.8': 206,\n",
    "    '2.9': 255,\n",
    "    '3.0': 197,\n",
    "    '3.1': 182,\n",
    "    '3.2': 153,\n",
    "    '3.3': 97,\n",
    "    '3.4': 69,\n",
    "    '3.5': 32,\n",
    "    '3.6': 21,\n",
    "    '3.7': 3,\n",
    "    '3.8': 2,\n",
    "    '3.9': 0,\n",
    "    '4.0': 0\n",
    "}"
   ]
  },
  {
   "cell_type": "code",
   "execution_count": 236,
   "metadata": {},
   "outputs": [],
   "source": [
    "grades = [float(key) for key in abi_grades_2015.keys()]\n",
    "\n",
    "values = [val for val in abi_grades_2015.values()]"
   ]
  },
  {
   "cell_type": "code",
   "execution_count": 235,
   "metadata": {},
   "outputs": [],
   "source": [
    "abi_stats = {'grades': grades, 'values': values}"
   ]
  },
  {
   "cell_type": "code",
   "execution_count": 44,
   "metadata": {},
   "outputs": [],
   "source": [
    "import matplotlib.pyplot as plt"
   ]
  },
  {
   "cell_type": "code",
   "execution_count": 87,
   "metadata": {},
   "outputs": [],
   "source": [
    "all_data = [grade for i, grade in enumerate(grades) for val in range(values[i])]"
   ]
  },
  {
   "cell_type": "code",
   "execution_count": 88,
   "metadata": {},
   "outputs": [
    {
     "data": {
      "text/plain": [
       "(array([1. , 1.1, 1.2, 1.3, 1.4, 1.5, 1.6, 1.7, 1.8, 1.9, 2. , 2.1, 2.2,\n",
       "        2.3, 2.4, 2.5, 2.6, 2.7, 2.8, 2.9, 3. , 3.1, 3.2, 3.3, 3.4, 3.5,\n",
       "        3.6, 3.7, 3.8]),\n",
       " array([ 70,  42,  56,  62,  63, 100, 115, 149, 170, 167, 155, 199, 203,\n",
       "        211, 208, 238, 228, 222, 206, 255, 197, 182, 153,  97,  69,  32,\n",
       "         21,   3,   2]))"
      ]
     },
     "execution_count": 88,
     "metadata": {},
     "output_type": "execute_result"
    }
   ],
   "source": [
    "np.unique(all_data, return_counts=True)"
   ]
  },
  {
   "cell_type": "code",
   "execution_count": 191,
   "metadata": {},
   "outputs": [
    {
     "data": {
      "text/plain": [
       "array([1.        , 1.06122449, 1.12244898, 1.18367347, 1.24489796,\n",
       "       1.30612245, 1.36734694, 1.42857143, 1.48979592, 1.55102041,\n",
       "       1.6122449 , 1.67346939, 1.73469388, 1.79591837, 1.85714286,\n",
       "       1.91836735, 1.97959184, 2.04081633, 2.10204082, 2.16326531,\n",
       "       2.2244898 , 2.28571429, 2.34693878, 2.40816327, 2.46938776,\n",
       "       2.53061224, 2.59183673, 2.65306122, 2.71428571, 2.7755102 ,\n",
       "       2.83673469, 2.89795918, 2.95918367, 3.02040816, 3.08163265,\n",
       "       3.14285714, 3.20408163, 3.26530612, 3.32653061, 3.3877551 ,\n",
       "       3.44897959, 3.51020408, 3.57142857, 3.63265306, 3.69387755,\n",
       "       3.75510204, 3.81632653, 3.87755102, 3.93877551, 4.        ])"
      ]
     },
     "execution_count": 191,
     "metadata": {},
     "output_type": "execute_result"
    }
   ],
   "source": [
    "x_axis = np.linspace(1.0, 4.0, 50)\n",
    "x_axis"
   ]
  },
  {
   "cell_type": "code",
   "execution_count": 192,
   "metadata": {},
   "outputs": [],
   "source": [
    "from sklearn.neighbors import KernelDensity"
   ]
  },
  {
   "cell_type": "code",
   "execution_count": 200,
   "metadata": {},
   "outputs": [
    {
     "data": {
      "text/plain": [
       "KernelDensity(algorithm='auto', atol=0, bandwidth=0.1, breadth_first=True,\n",
       "              kernel='gaussian', leaf_size=40, metric='euclidean',\n",
       "              metric_params=None, rtol=0)"
      ]
     },
     "execution_count": 200,
     "metadata": {},
     "output_type": "execute_result"
    }
   ],
   "source": [
    "kde = KernelDensity(bandwidth=0.1, kernel='gaussian')\n",
    "kde.fit(np.array(all_data).reshape(-1, 1))"
   ]
  },
  {
   "cell_type": "code",
   "execution_count": 234,
   "metadata": {},
   "outputs": [
    {
     "data": {
      "text/plain": [
       "<matplotlib.legend.Legend at 0x7f50a980aa20>"
      ]
     },
     "execution_count": 234,
     "metadata": {},
     "output_type": "execute_result"
    },
    {
     "data": {
      "image/png": "[encoded data removed]",
      "text/plain": [
       "<Figure size 720x216 with 1 Axes>"
      ]
     },
     "metadata": {
      "needs_background": "light"
     },
     "output_type": "display_data"
    }
   ],
   "source": [
    "fig, ax = plt.subplots(figsize=(10, 3))\n",
    "plt.rcParams.update({'font.size': 24})\n",
    "logprob = kde.score_samples(np.array(x_axis).reshape(-1, 1))\n",
    "density = np.exp(logprob)\n",
    "ax.fill_between(x_axis, density, alpha=0.5, label='Pass', color='#003C7E')\n",
    "fail_axis = np.array([4.0, 6.0])\n",
    "fail_area = np.array([0.6, 0.6])\n",
    "ax.fill_between(fail_axis, fail_area, alpha=0.5, color='grey', hatch='//', label='Fail')\n",
    "ax.set_xlabel('Grades, Abitur 2015, Germany')\n",
    "ax.set_ylabel(r\"$P($Grades$)$\")\n",
    "y_scaling = 0.6\n",
    "ax.axvline(x=1.3, ymin=0.0, ymax=density[5] / y_scaling * 0.97, c='#FFC107', label=\"Me\", linewidth=4)\n",
    "ax.text(1.35, 0.05, \"1.3\", fontsize=30)\n",
    "xt = ax.get_xticks()\n",
    "yt = ax.get_yticks()\n",
    "\n",
    "xt1 = xt.tolist()\n",
    "ax.set_xticks(xt)\n",
    "ax.set_xticklabels(xt1)\n",
    "ax.set_xlim(1.0, 5.5)\n",
    "ax.set_ylim(0.0, y_scaling)\n",
    "ax.legend(loc='upper right')\n"
   ]
  }
 ],
 "metadata": {
  "kernelspec": {
   "display_name": "Python 3",
   "language": "python",
   "name": "python3"
  },
  "language_info": {
   "codemirror_mode": {
    "name": "ipython",
    "version": 3
   },
   "file_extension": ".py",
   "mimetype": "text/x-python",
   "name": "python",
   "nbconvert_exporter": "python",
   "pygments_lexer": "ipython3",
   "version": "3.7.3"
  }
 },
 "nbformat": 4,
 "nbformat_minor": 4
}
