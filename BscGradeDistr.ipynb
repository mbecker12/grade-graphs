{
 "cells": [
  {
   "cell_type": "code",
   "execution_count": 5,
   "metadata": {},
   "outputs": [],
   "source": [
    "import numpy as np\n",
    "from sklearn.neighbors import KernelDensity\n",
    "import matplotlib.pyplot as plt"
   ]
  },
  {
   "cell_type": "code",
   "execution_count": 41,
   "metadata": {},
   "outputs": [],
   "source": [
    "source = \"gradeview.io\""
   ]
  },
  {
   "cell_type": "code",
   "execution_count": 2,
   "metadata": {},
   "outputs": [],
   "source": [
    "grades = [1.0, \n",
    "        1.3,\n",
    "        1.7,\n",
    "        2.0,\n",
    "        2.3,\n",
    "        2.7,\n",
    "        3.0,\n",
    "        3.3,\n",
    "        3.7,\n",
    "        4.0\n",
    "]\n",
    "\n",
    "values = np.array([\n",
    "    29.98626,\n",
    "    66.16995,\n",
    "    74.49048,\n",
    "    74.24784,\n",
    "    91.15176,\n",
    "    67.35282,\n",
    "    47.83041,\n",
    "    26.1849,\n",
    "    8.7957,\n",
    "    4.28664\n",
    "], dtype=np.int32)"
   ]
  },
  {
   "cell_type": "code",
   "execution_count": 4,
   "metadata": {},
   "outputs": [
    {
     "data": {
      "text/plain": [
       "array([29, 66, 74, 74, 91, 67, 47, 26,  8,  4], dtype=int32)"
      ]
     },
     "execution_count": 4,
     "metadata": {},
     "output_type": "execute_result"
    }
   ],
   "source": [
    "values"
   ]
  },
  {
   "cell_type": "code",
   "execution_count": 6,
   "metadata": {},
   "outputs": [],
   "source": [
    "all_data = [grade for i, grade in enumerate(grades) for val in range(values[i])]"
   ]
  },
  {
   "cell_type": "code",
   "execution_count": 7,
   "metadata": {},
   "outputs": [
    {
     "data": {
      "text/plain": [
       "(array([1. , 1.3, 1.7, 2. , 2.3, 2.7, 3. , 3.3, 3.7, 4. ]),\n",
       " array([29, 66, 74, 74, 91, 67, 47, 26,  8,  4]))"
      ]
     },
     "execution_count": 7,
     "metadata": {},
     "output_type": "execute_result"
    }
   ],
   "source": [
    "np.unique(all_data, return_counts=True)"
   ]
  },
  {
   "cell_type": "code",
   "execution_count": 38,
   "metadata": {},
   "outputs": [
    {
     "data": {
      "text/plain": [
       "array([1.        , 1.06818182, 1.13636364, 1.20454545, 1.27272727,\n",
       "       1.34090909, 1.40909091, 1.47727273, 1.54545455, 1.61363636,\n",
       "       1.68181818, 1.75      , 1.81818182, 1.88636364, 1.95454545,\n",
       "       2.02272727, 2.09090909, 2.15909091, 2.22727273, 2.29545455,\n",
       "       2.36363636, 2.43181818, 2.5       , 2.56818182, 2.63636364,\n",
       "       2.70454545, 2.77272727, 2.84090909, 2.90909091, 2.97727273,\n",
       "       3.04545455, 3.11363636, 3.18181818, 3.25      , 3.31818182,\n",
       "       3.38636364, 3.45454545, 3.52272727, 3.59090909, 3.65909091,\n",
       "       3.72727273, 3.79545455, 3.86363636, 3.93181818, 4.        ])"
      ]
     },
     "execution_count": 38,
     "metadata": {},
     "output_type": "execute_result"
    }
   ],
   "source": [
    "x_axis = np.linspace(1.0, 4.0, 45)\n",
    "x_axis"
   ]
  },
  {
   "cell_type": "code",
   "execution_count": 52,
   "metadata": {},
   "outputs": [
    {
     "data": {
      "text/plain": [
       "KernelDensity(algorithm='auto', atol=0, bandwidth=0.2, breadth_first=True,\n",
       "              kernel='gaussian', leaf_size=40, metric='euclidean',\n",
       "              metric_params=None, rtol=0)"
      ]
     },
     "execution_count": 52,
     "metadata": {},
     "output_type": "execute_result"
    }
   ],
   "source": [
    "kde = KernelDensity(bandwidth=0.2, kernel='gaussian')\n",
    "kde.fit(np.array(all_data).reshape(-1, 1))"
   ]
  },
  {
   "cell_type": "code",
   "execution_count": 70,
   "metadata": {},
   "outputs": [
    {
     "data": {
      "text/plain": [
       "<matplotlib.legend.Legend at 0x7fa4cf21f080>"
      ]
     },
     "execution_count": 70,
     "metadata": {},
     "output_type": "execute_result"
    },
    {
     "data": {
      "image/png": "[encoded data removed]",
      "text/plain": [
       "<Figure size 720x216 with 1 Axes>"
      ]
     },
     "metadata": {
      "needs_background": "light"
     },
     "output_type": "display_data"
    }
   ],
   "source": [
    "fig, ax = plt.subplots(figsize=(10, 3))\n",
    "plt.rcParams.update({'font.size': 24})\n",
    "logprob = kde.score_samples(np.array(x_axis).reshape(-1, 1))\n",
    "density = np.exp(logprob)\n",
    "ax.fill_between(x_axis, density, alpha=0.5, label='Pass', color='#003C7E')\n",
    "fail_axis = np.array([4.0, 5.5])\n",
    "fail_area = np.array([0.6, 0.6])\n",
    "ax.fill_between(fail_axis, fail_area, alpha=0.5, color='grey', hatch='//', label='Fail')\n",
    "ax.set_xlabel('Grades, Physik BSc, Germany')\n",
    "ax.set_ylabel(r\"$P($Grades$)$\")\n",
    "y_scaling = 0.6\n",
    "ax.axvline(x=1.4, ymin=0.0, ymax=density[6] / y_scaling * 0.98, c='#FFC107', label=\"Me\", linewidth=4)\n",
    "ax.text(1.45, 0.05, \"1.4\", fontsize=30)\n",
    "xt = ax.get_xticks()\n",
    "yt = ax.get_yticks()\n",
    "\n",
    "xt1 = xt.tolist()\n",
    "ax.set_xticks(xt)\n",
    "ax.set_xticklabels(xt1)\n",
    "ax.set_xlim(1.0, 5.5)\n",
    "ax.set_ylim(0.0, y_scaling)\n",
    "ax.legend(loc='upper right')\n"
   ]
  }
 ],
 "metadata": {
  "kernelspec": {
   "display_name": "Python 3",
   "language": "python",
   "name": "python3"
  },
  "language_info": {
   "codemirror_mode": {
    "name": "ipython",
    "version": 3
   },
   "file_extension": ".py",
   "mimetype": "text/x-python",
   "name": "python",
   "nbconvert_exporter": "python",
   "pygments_lexer": "ipython3",
   "version": "3.7.3"
  }
 },
 "nbformat": 4,
 "nbformat_minor": 4
}
